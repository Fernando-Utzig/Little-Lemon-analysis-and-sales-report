{
 "cells": [
  {
   "cell_type": "markdown",
   "id": "dda1b074-6fef-4320-9c49-0d6e4ff44b79",
   "metadata": {},
   "source": [
    "Little Lemon is a small family-owned Mediterranean restaurant.\n",
    "They want to design a Python application that must link and store booking, menu, and orders information in MySQL database tables.\n",
    "The business owner will use the stored data to drive revenue-making decisions.\n",
    "Therefore, creating and manage a database is one of the Little Lemons goals."
   ]
  },
  {
   "cell_type": "code",
   "execution_count": 1,
   "id": "efadb3d1-14e2-405c-a138-88b8c129e5ba",
   "metadata": {},
   "outputs": [],
   "source": [
    "from mysql.connector.pooling import MySQLConnectionPool\n",
    "import mysql.connector as connector\n",
    "from mysql.connector import Error"
   ]
  },
  {
   "cell_type": "markdown",
   "id": "05e07511-51d8-4aec-aab3-3a155fb6309f",
   "metadata": {},
   "source": [
    "Establishing a connection to a database with the password \"1234\" and creating the Little Lemon database\n"
   ]
  },
  {
   "cell_type": "code",
   "execution_count": 2,
   "id": "774fd5f1-659d-478f-8ec9-b36820ed5eb5",
   "metadata": {},
   "outputs": [
    {
     "name": "stdout",
     "output_type": "stream",
     "text": [
      "Can't create database 'little_lemon'; database exists\n"
     ]
    }
   ],
   "source": [
    "try:\n",
    "    connection = connector.connect(user=\"root\", password=\"1234\")\n",
    "    cursor = connection.cursor()\n",
    "    cursor.execute(\"CREATE DATABASE little_lemon\")\n",
    "    print(\"The database 'little_lemon' is created.\\n\")\n",
    "    cursor.execute(\"USE little_lemon_db\")\n",
    "    connection.database\n",
    "    print(\"The database is set for use.\")\n",
    "except Error as error:\n",
    "    print(error.msg)"
   ]
  },
  {
   "cell_type": "markdown",
   "id": "cc13665c-1882-4071-bb40-3dfe4d11cf2f",
   "metadata": {},
   "source": [
    "Creating a connection pool with 2 connections and a Function to execute SQL queries"
   ]
  },
  {
   "cell_type": "code",
   "execution_count": 3,
   "id": "ce6ec905-c2cb-4e1e-acf6-5717e962e9dc",
   "metadata": {},
   "outputs": [
    {
     "name": "stdout",
     "output_type": "stream",
     "text": [
      "The connection pool is created with a name:  pool_a\n",
      "The pool size is:  2\n"
     ]
    }
   ],
   "source": [
    "dbconfig = {\n",
    "    \"database\": \"little_lemon\",\n",
    "    \"user\": \"root\",\n",
    "    \"password\": \"1234\"\n",
    "}\n",
    "\n",
    "try:\n",
    "    # Connection pool with 2 connections\n",
    "    pool = MySQLConnectionPool(pool_name=\"pool_a\", pool_size=2, **dbconfig)\n",
    "    print(\"The connection pool is created with a name: \", pool.pool_name)\n",
    "    print(\"The pool size is: \", pool.pool_size)\n",
    "\n",
    "    # Function to execute SQL queries\n",
    "    def execute_query(query, values=None):\n",
    "        connection = pool.get_connection()  # Get a connection from the pool\n",
    "        cursor = connection.cursor()\n",
    "        try:\n",
    "            cursor.execute(query, values)\n",
    "            connection.commit()\n",
    "            print(\"Query executed successfully.\")\n",
    "        except Error as e:\n",
    "            print(\"Error executing query:\", e)\n",
    "        finally:\n",
    "            cursor.close()\n",
    "            connection.close()\n",
    "except Error as er:\n",
    "    print(\"Error:\", er)"
   ]
  },
  {
   "cell_type": "markdown",
   "id": "97fff4fd-8b67-4cb7-b01f-a0706d865e0b",
   "metadata": {},
   "source": [
    "Creating the tables and populate with required data"
   ]
  },
  {
   "cell_type": "code",
   "execution_count": 4,
   "id": "e0bbe765-2de9-4498-bc5f-1f693f680214",
   "metadata": {},
   "outputs": [
    {
     "name": "stdout",
     "output_type": "stream",
     "text": [
      "Error executing query: 1050 (42S01): Table 'booking' already exists\n",
      "Booking table is created.\n",
      "Error executing query: 1050 (42S01): Table 'menu' already exists\n",
      "Menu table is created.\n",
      "Error executing query: 1050 (42S01): Table 'orders' already exists\n",
      "Orders table is created.\n",
      "Inserting data in the Booking table.\n",
      "Query executed successfully.\n",
      "Inserting data in the Menu table.\n",
      "Query executed successfully.\n",
      "Inserting data in the Orders table.\n",
      "Query executed successfully.\n"
     ]
    }
   ],
   "source": [
    "# Create the booking table\n",
    "create_booking_table_query = \"\"\"\n",
    "CREATE TABLE booking (\n",
    "    booking_id INT AUTO_INCREMENT PRIMARY KEY,\n",
    "    booking_slot TIME NOT NULL,\n",
    "    guest_name VARCHAR(100) NOT NULL,\n",
    "    assigned_to VARCHAR(100) NOT NULL\n",
    ");\n",
    "\"\"\"\n",
    "\n",
    "# Create the menu table\n",
    "create_menu_table_query = \"\"\"\n",
    "CREATE TABLE menu (\n",
    "    item_id INT AUTO_INCREMENT PRIMARY KEY,\n",
    "    item_name VARCHAR(100) NOT NULL,\n",
    "    item_description TEXT,\n",
    "    item_price DECIMAL(10, 2) NOT NULL\n",
    ");\n",
    "\"\"\"\n",
    "\n",
    "# Create the orders table\n",
    "create_orders_table_query = \"\"\"\n",
    "CREATE TABLE orders (\n",
    "    order_id INT AUTO_INCREMENT PRIMARY KEY,\n",
    "    booking_id INT NOT NULL,\n",
    "    item_id INT NOT NULL,\n",
    "    quantity INT NOT NULL,\n",
    "    FOREIGN KEY (booking_id) REFERENCES booking(booking_id),\n",
    "    FOREIGN KEY (item_id) REFERENCES menu(item_id)\n",
    ");\n",
    "\"\"\"\n",
    "\n",
    "# Populate the booking table with sample data\n",
    "populate_booking_table_query = \"\"\"\n",
    "INSERT INTO booking (booking_slot, guest_name, assigned_to) \n",
    "VALUES \n",
    "('15:00:00', 'Vanessa McCarthy', 'Giorgos Dioudis [Head Chef]'),\n",
    "('17:30:00', 'Marcos Romero', 'Fatma Kaya [Assistant Chef]'),\n",
    "('18:00:00', 'Anees Java', 'Jhon Millar [Receptionist]');\n",
    "\"\"\"\n",
    "\n",
    "# Populate the menu table with sample data\n",
    "populate_menu_table_query = \"\"\"\n",
    "INSERT INTO menu (item_name, item_description, item_price) \n",
    "VALUES \n",
    "('Mediterranean Salad', 'Fresh vegetables with olive oil dressing', 12.99),\n",
    "('Lemon Chicken', 'Grilled chicken with lemon and herbs', 15.99),\n",
    "('Falafel Wrap', 'Chickpea patties with tahini sauce in a wrap', 9.99),\n",
    "('Baklava', 'Traditional Mediterranean dessert with nuts and honey', 7.99);\n",
    "\"\"\"\n",
    "\n",
    "# Populate the orders table with sample data\n",
    "populate_orders_table_query = \"\"\"\n",
    "INSERT INTO orders (booking_id, item_id, quantity) \n",
    "VALUES \n",
    "(1, 1, 2),\n",
    "(2, 2, 1),\n",
    "(3, 3, 3),\n",
    "(3, 4, 2);\n",
    "\"\"\"\n",
    "\n",
    "# Execute queries\n",
    "execute_query(create_booking_table_query)\n",
    "print(\"Booking table is created.\")\n",
    "execute_query(create_menu_table_query)\n",
    "print(\"Menu table is created.\")\n",
    "execute_query(create_orders_table_query)\n",
    "print(\"Orders table is created.\")\n",
    "print(\"Inserting data in the Booking table.\")\n",
    "execute_query(populate_booking_table_query)\n",
    "print(\"Inserting data in the Menu table.\")\n",
    "execute_query(populate_menu_table_query)\n",
    "print(\"Inserting data in the Orders table.\")\n",
    "execute_query(populate_orders_table_query)"
   ]
  },
  {
   "cell_type": "markdown",
   "id": "f057f204-1d68-4641-9b43-3a7107c0b3c7",
   "metadata": {},
   "source": [
    "Implementing the functionalities of viewing bookings, adding new bookings, canceling bookings, viewing orders, adding new orderes, generating sales reports, and calculating revenue, with corresponding functions that execute SQL queries to retrieve, update, and analyze data from the database. "
   ]
  },
  {
   "cell_type": "code",
   "execution_count": 9,
   "id": "e90ca75c-7e3a-45ee-82f5-bde86f013763",
   "metadata": {},
   "outputs": [],
   "source": [
    "# View Booking Function\n",
    "def view_bookings():\n",
    "    query = \"SELECT * FROM booking\"\n",
    "    connection = pool.get_connection()\n",
    "    cursor = connection.cursor()\n",
    "    try:\n",
    "        cursor.execute(query)\n",
    "        print(\"Bookings:\")\n",
    "        for booking_id, booking_slot, guest_name, assigned_to in cursor.fetchall():\n",
    "            print(f\"Booking ID: {booking_id}, Slot: {booking_slot}, Guest Name: {guest_name}, Assigned To: {assigned_to}\")\n",
    "    except Error as e:\n",
    "        print(\"Error executing query:\", e)\n",
    "    finally:\n",
    "        cursor.close()\n",
    "        connection.close()\n",
    "\n",
    "# Function to add a new booking\n",
    "def add_booking():\n",
    "    booking_slot = input(\"Enter booking slot (HH:MM:SS): \")\n",
    "    guest_name = input(\"Enter guest name: \")\n",
    "    assigned_to = input(\"Enter assigned staff: \")\n",
    "    \n",
    "    query = \"INSERT INTO booking (booking_slot, guest_name, assigned_to) VALUES (%s, %s, %s)\"\n",
    "    values = (booking_slot, guest_name, assigned_to)\n",
    "    \n",
    "    execute_query(query, values)\n",
    "    print(\"New booking added successfully.\")\n",
    "    \n",
    "# Cancel Bookings Function\n",
    "def cancel_booking(booking_id):\n",
    "    query = f\"DELETE FROM booking WHERE booking_id = {booking_id}\"\n",
    "    execute_query(query)\n",
    "    print(f\"Booking with ID {booking_id} canceled successfully.\")\n",
    "\n",
    "# Function to view orders\n",
    "def view_orders():\n",
    "    query = \"\"\"\n",
    "    SELECT o.order_id, b.booking_slot, b.guest_name, m.item_name, o.quantity\n",
    "    FROM orders o\n",
    "    INNER JOIN booking b ON o.booking_id = b.booking_id\n",
    "    INNER JOIN menu m ON o.item_id = m.item_id\n",
    "    \"\"\"\n",
    "    connection = pool.get_connection()\n",
    "    cursor = connection.cursor()\n",
    "    try:\n",
    "        cursor.execute(query)\n",
    "        print(\"Orders:\")\n",
    "        for order_id, booking_slot, guest_name, item_name, quantity in cursor.fetchall():\n",
    "            print(f\"Order ID: {order_id}, Booking Slot: {booking_slot}, Guest Name: {guest_name}, Item: {item_name}, Quantity: {quantity}\")\n",
    "    except Error as e:\n",
    "        print(\"Error executing query:\", e)\n",
    "    finally:\n",
    "        cursor.close()\n",
    "        connection.close()\n",
    "\n",
    "# Function to add an order\n",
    "def add_order():\n",
    "    booking_id = input(\"Enter Booking ID: \")\n",
    "    item_id = input(\"Enter Item ID: \")\n",
    "    quantity = input(\"Enter Quantity: \")\n",
    "    \n",
    "    query = \"INSERT INTO orders (booking_id, item_id, quantity) VALUES (%s, %s, %s)\"\n",
    "    values = (booking_id, item_id, quantity)\n",
    "    \n",
    "    execute_query(query, values)\n",
    "    print(\"New order added successfully.\")\n",
    "\n",
    "# Generate Sales Reports Function\n",
    "def generate_sales_report():\n",
    "    query = \"\"\"\n",
    "    SELECT m.item_name, \n",
    "           SUM(o.quantity) AS total_quantity, \n",
    "           SUM(m.item_price * o.quantity) AS total_revenue\n",
    "    FROM menu m\n",
    "    INNER JOIN orders o ON m.item_id = o.item_id\n",
    "    INNER JOIN booking b ON o.booking_id = b.booking_id\n",
    "    GROUP BY m.item_name\n",
    "    \"\"\"\n",
    "    connection = pool.get_connection()\n",
    "    cursor = connection.cursor()\n",
    "    try:\n",
    "        cursor.execute(query)\n",
    "        results = cursor.fetchall()\n",
    "        if not results:\n",
    "            print(\"No orders found.\")\n",
    "        else:\n",
    "            print(\"Sales Report:\")\n",
    "            print(\"Item Name | Total Quantity | Total Revenue\")\n",
    "            for item_name, total_quantity, total_revenue in results:\n",
    "                print(f\"{item_name} | {total_quantity} | ${total_revenue}\")\n",
    "    except Error as e:\n",
    "        print(\"Error executing query:\", e)\n",
    "    finally:\n",
    "        cursor.close()\n",
    "        connection.close()\n",
    "\n",
    "\n",
    "# Calculate Revenue Function\n",
    "def calculate_revenue():\n",
    "    query = \"\"\"\n",
    "    SELECT SUM(m.item_price * o.quantity) AS total_revenue\n",
    "    FROM menu m\n",
    "    INNER JOIN orders o ON m.item_id = o.item_id\n",
    "    INNER JOIN booking b ON o.booking_id = b.booking_id\n",
    "    \"\"\"\n",
    "    connection = pool.get_connection()\n",
    "    cursor = connection.cursor()\n",
    "    try:\n",
    "        cursor.execute(query)\n",
    "        total_revenue = cursor.fetchone()[0]\n",
    "        print(f\"Total revenue generated: ${total_revenue}\")\n",
    "    except Error as e:\n",
    "        print(\"Error executing query:\", e)\n",
    "    finally:\n",
    "        cursor.close()\n",
    "        connection.close()\n"
   ]
  },
  {
   "cell_type": "markdown",
   "id": "7198d2f3-fb9d-4366-b0d3-cb3dd38fb491",
   "metadata": {},
   "source": [
    "Creating a simple command-line interface (CLI) for users to interact with the functionalities"
   ]
  },
  {
   "cell_type": "code",
   "execution_count": null,
   "id": "c19db3c2-5f88-464c-b525-ea93a324c8ee",
   "metadata": {},
   "outputs": [
    {
     "name": "stdout",
     "output_type": "stream",
     "text": [
      "Welcome to Little Lemon Menu Sales Report System\n",
      "1. View Bookings\n",
      "2. Add Booking\n",
      "3. Cancel Booking\n",
      "4. Generate Sales Report\n",
      "5. Calculate Revenue\n",
      "6. View Orders\n",
      "7. Add Order\n",
      "8. Exit\n"
     ]
    },
    {
     "name": "stdout",
     "output_type": "stream",
     "text": [
      "Please enter your choice:  7\n",
      "Enter Booking ID:  2\n",
      "Enter Item ID:  1\n",
      "Enter Quantity:  6\n"
     ]
    },
    {
     "name": "stdout",
     "output_type": "stream",
     "text": [
      "Query executed successfully.\n",
      "New order added successfully.\n",
      "Welcome to Little Lemon Menu Sales Report System\n",
      "1. View Bookings\n",
      "2. Add Booking\n",
      "3. Cancel Booking\n",
      "4. Generate Sales Report\n",
      "5. Calculate Revenue\n",
      "6. View Orders\n",
      "7. Add Order\n",
      "8. Exit\n"
     ]
    },
    {
     "name": "stdout",
     "output_type": "stream",
     "text": [
      "Please enter your choice:  6\n"
     ]
    },
    {
     "name": "stdout",
     "output_type": "stream",
     "text": [
      "Orders:\n",
      "Order ID: 1, Booking Slot: 15:00:00, Guest Name: Vanessa McCarthy, Item: Mediterranean Salad, Quantity: 2\n",
      "Order ID: 5, Booking Slot: 15:00:00, Guest Name: Vanessa McCarthy, Item: Mediterranean Salad, Quantity: 2\n",
      "Order ID: 9, Booking Slot: 15:00:00, Guest Name: Vanessa McCarthy, Item: Mediterranean Salad, Quantity: 2\n",
      "Order ID: 13, Booking Slot: 15:00:00, Guest Name: Vanessa McCarthy, Item: Mediterranean Salad, Quantity: 2\n",
      "Order ID: 17, Booking Slot: 15:00:00, Guest Name: Vanessa McCarthy, Item: Mediterranean Salad, Quantity: 2\n",
      "Order ID: 2, Booking Slot: 17:30:00, Guest Name: Marcos Romero, Item: Lemon Chicken, Quantity: 1\n",
      "Order ID: 6, Booking Slot: 17:30:00, Guest Name: Marcos Romero, Item: Lemon Chicken, Quantity: 1\n",
      "Order ID: 10, Booking Slot: 17:30:00, Guest Name: Marcos Romero, Item: Lemon Chicken, Quantity: 1\n",
      "Order ID: 14, Booking Slot: 17:30:00, Guest Name: Marcos Romero, Item: Lemon Chicken, Quantity: 1\n",
      "Order ID: 18, Booking Slot: 17:30:00, Guest Name: Marcos Romero, Item: Lemon Chicken, Quantity: 1\n",
      "Order ID: 21, Booking Slot: 17:30:00, Guest Name: Marcos Romero, Item: Mediterranean Salad, Quantity: 6\n",
      "Order ID: 3, Booking Slot: 18:00:00, Guest Name: Anees Java, Item: Falafel Wrap, Quantity: 3\n",
      "Order ID: 4, Booking Slot: 18:00:00, Guest Name: Anees Java, Item: Baklava, Quantity: 2\n",
      "Order ID: 7, Booking Slot: 18:00:00, Guest Name: Anees Java, Item: Falafel Wrap, Quantity: 3\n",
      "Order ID: 8, Booking Slot: 18:00:00, Guest Name: Anees Java, Item: Baklava, Quantity: 2\n",
      "Order ID: 11, Booking Slot: 18:00:00, Guest Name: Anees Java, Item: Falafel Wrap, Quantity: 3\n",
      "Order ID: 12, Booking Slot: 18:00:00, Guest Name: Anees Java, Item: Baklava, Quantity: 2\n",
      "Order ID: 15, Booking Slot: 18:00:00, Guest Name: Anees Java, Item: Falafel Wrap, Quantity: 3\n",
      "Order ID: 16, Booking Slot: 18:00:00, Guest Name: Anees Java, Item: Baklava, Quantity: 2\n",
      "Order ID: 19, Booking Slot: 18:00:00, Guest Name: Anees Java, Item: Falafel Wrap, Quantity: 3\n",
      "Order ID: 20, Booking Slot: 18:00:00, Guest Name: Anees Java, Item: Baklava, Quantity: 2\n",
      "Welcome to Little Lemon Menu Sales Report System\n",
      "1. View Bookings\n",
      "2. Add Booking\n",
      "3. Cancel Booking\n",
      "4. Generate Sales Report\n",
      "5. Calculate Revenue\n",
      "6. View Orders\n",
      "7. Add Order\n",
      "8. Exit\n"
     ]
    },
    {
     "name": "stdout",
     "output_type": "stream",
     "text": [
      "Please enter your choice:  5\n"
     ]
    },
    {
     "name": "stdout",
     "output_type": "stream",
     "text": [
      "Total revenue generated: $517.54\n",
      "Welcome to Little Lemon Menu Sales Report System\n",
      "1. View Bookings\n",
      "2. Add Booking\n",
      "3. Cancel Booking\n",
      "4. Generate Sales Report\n",
      "5. Calculate Revenue\n",
      "6. View Orders\n",
      "7. Add Order\n",
      "8. Exit\n"
     ]
    }
   ],
   "source": [
    "# Import necessary modules\n",
    "import sys\n",
    "\n",
    "# Define the CLI interface function\n",
    "def main_menu():\n",
    "    print(\"Welcome to Little Lemon Menu Sales Report System\")\n",
    "    print(\"1. View Bookings\")\n",
    "    print(\"2. Add Booking\")\n",
    "    print(\"3. Cancel Booking\")\n",
    "    print(\"4. Generate Sales Report\")\n",
    "    print(\"5. Calculate Revenue\")\n",
    "    print(\"6. View Orders\")\n",
    "    print(\"7. Add Order\")\n",
    "    print(\"8. Exit\")\n",
    "\n",
    "    choice = input(\"Please enter your choice: \")\n",
    "\n",
    "    if choice == \"1\":\n",
    "        view_bookings()\n",
    "    elif choice == \"2\":\n",
    "        add_booking()\n",
    "    elif choice == \"3\":\n",
    "        booking_id = input(\"Enter the Booking ID to cancel: \")\n",
    "        cancel_booking(booking_id)\n",
    "    elif choice == \"4\":\n",
    "        generate_sales_report()\n",
    "    elif choice == \"5\":\n",
    "        calculate_revenue()\n",
    "    elif choice == \"6\":\n",
    "        view_orders()\n",
    "    elif choice == \"7\":\n",
    "        add_order()\n",
    "    elif choice == \"8\":\n",
    "        print(\"Exiting the program.\")\n",
    "        sys.exit()\n",
    "    else:\n",
    "        print(\"Invalid choice. Please try again.\")\n",
    "    \n",
    "    # After completing the chosen operation, return to the main menu\n",
    "    main_menu()\n",
    "\n",
    "# Call the main menu function to start the program\n",
    "main_menu()"
   ]
  },
  {
   "cell_type": "code",
   "execution_count": null,
   "id": "e652638d",
   "metadata": {},
   "outputs": [],
   "source": []
  },
  {
   "cell_type": "code",
   "execution_count": null,
   "id": "6f68ea95-a255-4f5b-8bb4-b5389f0f30cd",
   "metadata": {},
   "outputs": [],
   "source": []
  }
 ],
 "metadata": {
  "kernelspec": {
   "display_name": "Python 3 (ipykernel)",
   "language": "python",
   "name": "python3"
  },
  "language_info": {
   "codemirror_mode": {
    "name": "ipython",
    "version": 3
   },
   "file_extension": ".py",
   "mimetype": "text/x-python",
   "name": "python",
   "nbconvert_exporter": "python",
   "pygments_lexer": "ipython3",
   "version": "3.8.0"
  }
 },
 "nbformat": 4,
 "nbformat_minor": 5
}
